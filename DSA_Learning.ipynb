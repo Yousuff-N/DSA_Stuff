{
 "cells": [
  {
   "cell_type": "code",
   "execution_count": 2,
   "metadata": {},
   "outputs": [
    {
     "name": "stdout",
     "output_type": "stream",
     "text": [
      "8004000\n"
     ]
    }
   ],
   "source": [
    "n1=4000\n",
    "n2=8000000\n",
    "res = n1+n2\n",
    "print(res)"
   ]
  },
  {
   "cell_type": "code",
   "execution_count": 14,
   "metadata": {},
   "outputs": [
    {
     "name": "stdout",
     "output_type": "stream",
     "text": [
      "1250000025000000\n"
     ]
    }
   ],
   "source": [
    "n = 50000000\n",
    "# 1+2+3+4+5+......+50 => 15\n",
    "sum_num = 0\n",
    "for i in range(1,n+1):\n",
    "    sum_num += i\n",
    "    \n",
    "print(sum_num)\n",
    "\n",
    "# O(n)\n"
   ]
  },
  {
   "cell_type": "code",
   "execution_count": 17,
   "metadata": {},
   "outputs": [
    {
     "name": "stdout",
     "output_type": "stream",
     "text": [
      "1250000025000000\n"
     ]
    }
   ],
   "source": [
    "#O(1)\n",
    "n = 50000000\n",
    "num_sum = (n*(n+1))//2\n",
    "\n",
    "print(other_box)\n",
    "\n",
    "\n"
   ]
  },
  {
   "cell_type": "code",
   "execution_count": 3,
   "metadata": {},
   "outputs": [
    {
     "data": {
      "text/plain": [
       "(4, 9)"
      ]
     },
     "execution_count": 3,
     "metadata": {},
     "output_type": "execute_result"
    }
   ],
   "source": [
    "lst = [3,4,8,9,5]\n",
    "t = 13\n",
    "#op --> (4,9)\n",
    "#TC: o(n^2)\n",
    "def two_sum(lst,t):\n",
    "    n = len(lst)\n",
    "    for i in range(n-1):\n",
    "        fn = lst[i]\n",
    "        for j in range(i+1,n):\n",
    "            sn = lst[j]\n",
    "            if fn+sn == t:\n",
    "                return fn,sn\n",
    "    return 'No match'\n",
    "\n",
    "two_sum(lst,t)"
   ]
  },
  {
   "cell_type": "code",
   "execution_count": 9,
   "metadata": {},
   "outputs": [
    {
     "data": {
      "text/plain": [
       "(4, 9)"
      ]
     },
     "execution_count": 9,
     "metadata": {},
     "output_type": "execute_result"
    }
   ],
   "source": [
    "#2 pointer\n",
    "def two_sum_logn(lst,t):\n",
    "    lst.sort()\n",
    "    left = 0\n",
    "    right = len(lst) -1\n",
    "    while left<right:\n",
    "        cv = lst[left]+lst[right]\n",
    "        if cv == t:\n",
    "            return (lst[left],lst[right])\n",
    "        elif cv<t:\n",
    "            left += 1\n",
    "        else:\n",
    "            right -= 1\n",
    "    return []\n",
    "    \n",
    "    \n",
    "        \n",
    "    \n",
    "two_sum_logn(lst,t)\n"
   ]
  },
  {
   "cell_type": "code",
   "execution_count": 16,
   "metadata": {},
   "outputs": [
    {
     "data": {
      "text/plain": [
       "(18, 4)"
      ]
     },
     "execution_count": 16,
     "metadata": {},
     "output_type": "execute_result"
    }
   ],
   "source": [
    "#hashmap technique -O(n)\n",
    "lst = [3,4,18,9,5]\n",
    "t = 22\n",
    "def two_sum_On(lst,t):\n",
    "    hm ={}\n",
    "    \n",
    "    for num in lst:\n",
    "        pm = t - num\n",
    "        if pm in lst:\n",
    "            return pm,num\n",
    "        else:\n",
    "            hm[num] = True\n",
    "        \n",
    "    return []\n",
    "\n",
    "  \n",
    "    \n",
    "        \n",
    "    \n",
    "two_sum_On(lst,t)"
   ]
  },
  {
   "cell_type": "code",
   "execution_count": null,
   "metadata": {},
   "outputs": [],
   "source": []
  }
 ],
 "metadata": {
  "kernelspec": {
   "display_name": "Python 3",
   "language": "python",
   "name": "python3"
  },
  "language_info": {
   "codemirror_mode": {
    "name": "ipython",
    "version": 3
   },
   "file_extension": ".py",
   "mimetype": "text/x-python",
   "name": "python",
   "nbconvert_exporter": "python",
   "pygments_lexer": "ipython3",
   "version": "3.7.6"
  }
 },
 "nbformat": 4,
 "nbformat_minor": 4
}
